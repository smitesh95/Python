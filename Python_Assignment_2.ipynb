{
  "nbformat": 4,
  "nbformat_minor": 0,
  "metadata": {
    "colab": {
      "name": "Python_Assignment_2.ipynb",
      "provenance": [],
      "authorship_tag": "ABX9TyON19/eUS6N1Ec9R5alH2Go",
      "include_colab_link": true
    },
    "kernelspec": {
      "name": "python3",
      "display_name": "Python 3"
    }
  },
  "cells": [
    {
      "cell_type": "markdown",
      "metadata": {
        "id": "view-in-github",
        "colab_type": "text"
      },
      "source": [
        "<a href=\"https://colab.research.google.com/github/smitesh95/Python/blob/main/Python_Assignment_2.ipynb\" target=\"_parent\"><img src=\"https://colab.research.google.com/assets/colab-badge.svg\" alt=\"Open In Colab\"/></a>"
      ]
    },
    {
      "cell_type": "code",
      "metadata": {
        "id": "K_S0NnK0kV2N"
      },
      "source": [
        "1. Create the below pattern using nested for loop in Python.\r\n",
        "*\r\n",
        "* *\r\n",
        "* * *\r\n",
        "* * * *\r\n",
        "* * * * *\r\n",
        "* * * *\r\n",
        "* * *\r\n",
        "* *\r\n",
        "*"
      ],
      "execution_count": null,
      "outputs": []
    },
    {
      "cell_type": "code",
      "metadata": {
        "colab": {
          "base_uri": "https://localhost:8080/"
        },
        "id": "Q-x8jJiqkkbB",
        "outputId": "adf94cd2-d5d6-49da-c1d3-69fbd2c1e59e"
      },
      "source": [
        "for i in range(5):\r\n",
        "  for j in range(i):\r\n",
        "    print('*',end=' ')\r\n",
        "  print()\r\n",
        "for i in range(5,0,-1):\r\n",
        "  for j in range(i):\r\n",
        "    print('*',end=' ')\r\n",
        "  print()\r\n"
      ],
      "execution_count": 9,
      "outputs": [
        {
          "output_type": "stream",
          "text": [
            "\n",
            "* \n",
            "* * \n",
            "* * * \n",
            "* * * * \n",
            "* * * * * \n",
            "* * * * \n",
            "* * * \n",
            "* * \n",
            "* \n"
          ],
          "name": "stdout"
        }
      ]
    },
    {
      "cell_type": "code",
      "metadata": {
        "id": "Vh5GzOBbkrGw"
      },
      "source": [
        "2. Write a Python program to reverse a word after accepting the input from the user.\r\n",
        "\r\n",
        "Sample Output:\r\n",
        "\r\n",
        "Input word: ineuron\r\n",
        "Output: norueni"
      ],
      "execution_count": 10,
      "outputs": []
    },
    {
      "cell_type": "code",
      "metadata": {
        "colab": {
          "base_uri": "https://localhost:8080/"
        },
        "id": "MMcCYAHWlzZa",
        "outputId": "da8bb629-2b42-487a-d56d-1314ab3f0366"
      },
      "source": [
        "word=input('Enter a name :')\r\n",
        "print(word[::-1])\r\n"
      ],
      "execution_count": 17,
      "outputs": [
        {
          "output_type": "stream",
          "text": [
            "Enter a name :ineuron\n",
            "norueni\n"
          ],
          "name": "stdout"
        }
      ]
    },
    {
      "cell_type": "code",
      "metadata": {
        "id": "4m6vClHHmGx6"
      },
      "source": [
        ""
      ],
      "execution_count": 14,
      "outputs": []
    }
  ]
}