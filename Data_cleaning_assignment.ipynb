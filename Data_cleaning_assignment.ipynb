{
  "nbformat": 4,
  "nbformat_minor": 0,
  "metadata": {
    "colab": {
      "name": "Data_cleaning_assignment.ipynb",
      "provenance": [],
      "authorship_tag": "ABX9TyPBOBHoZaB6D5nM/vFAbgVy",
      "include_colab_link": true
    },
    "kernelspec": {
      "name": "python3",
      "display_name": "Python 3"
    }
  },
  "cells": [
    {
      "cell_type": "markdown",
      "metadata": {
        "id": "view-in-github",
        "colab_type": "text"
      },
      "source": [
        "<a href=\"https://colab.research.google.com/github/smitesh95/Python/blob/main/Data_cleaning_assignment.ipynb\" target=\"_parent\"><img src=\"https://colab.research.google.com/assets/colab-badge.svg\" alt=\"Open In Colab\"/></a>"
      ]
    },
    {
      "cell_type": "code",
      "metadata": {
        "id": "WB9f7jwXrhDJ"
      },
      "source": [
        "import pandas as pd\r\n",
        "import numpy as np"
      ],
      "execution_count": 1,
      "outputs": []
    },
    {
      "cell_type": "code",
      "metadata": {
        "id": "Zs_ng-oyrlTA"
      },
      "source": [
        "df = pd.DataFrame({'From_To': ['LoNDon_paris', 'MAdrid_miLAN',\r\n",
        "'londON_StockhOlm',\r\n",
        "\r\n",
        "'Budapest_PaRis', 'Brussels_londOn'],\r\n",
        "'FlightNumber': [10045, np.nan, 10065, np.nan, 10085],\r\n",
        "'RecentDelays': [[23, 47], [], [24, 43, 87], [13], [67, 32]],\r\n",
        "'Airline': ['KLM(!)', '<Air France> (12)', '(British Airways. )',\r\n",
        "'12. Air France', '\"Swiss Air\"']})"
      ],
      "execution_count": 2,
      "outputs": []
    },
    {
      "cell_type": "code",
      "metadata": {
        "id": "zSGZBhHBrvRb"
      },
      "source": [
        "1. Some values in the the FlightNumber column are missing. These numbers are\r\n",
        "meant to increase by 10 with each row so 10055 and 10075 need to be put in\r\n",
        "place. Fill in these missing numbers and make the column an integer column\r\n",
        "(instead of a float column)."
      ],
      "execution_count": null,
      "outputs": []
    },
    {
      "cell_type": "code",
      "metadata": {
        "colab": {
          "base_uri": "https://localhost:8080/",
          "height": 198
        },
        "id": "YqC9H1NQr4Zw",
        "outputId": "c4abc251-402e-491e-ef82-7136955b73f5"
      },
      "source": [
        "df"
      ],
      "execution_count": 3,
      "outputs": [
        {
          "output_type": "execute_result",
          "data": {
            "text/html": [
              "<div>\n",
              "<style scoped>\n",
              "    .dataframe tbody tr th:only-of-type {\n",
              "        vertical-align: middle;\n",
              "    }\n",
              "\n",
              "    .dataframe tbody tr th {\n",
              "        vertical-align: top;\n",
              "    }\n",
              "\n",
              "    .dataframe thead th {\n",
              "        text-align: right;\n",
              "    }\n",
              "</style>\n",
              "<table border=\"1\" class=\"dataframe\">\n",
              "  <thead>\n",
              "    <tr style=\"text-align: right;\">\n",
              "      <th></th>\n",
              "      <th>From_To</th>\n",
              "      <th>FlightNumber</th>\n",
              "      <th>RecentDelays</th>\n",
              "      <th>Airline</th>\n",
              "    </tr>\n",
              "  </thead>\n",
              "  <tbody>\n",
              "    <tr>\n",
              "      <th>0</th>\n",
              "      <td>LoNDon_paris</td>\n",
              "      <td>10045.0</td>\n",
              "      <td>[23, 47]</td>\n",
              "      <td>KLM(!)</td>\n",
              "    </tr>\n",
              "    <tr>\n",
              "      <th>1</th>\n",
              "      <td>MAdrid_miLAN</td>\n",
              "      <td>NaN</td>\n",
              "      <td>[]</td>\n",
              "      <td>&lt;Air France&gt; (12)</td>\n",
              "    </tr>\n",
              "    <tr>\n",
              "      <th>2</th>\n",
              "      <td>londON_StockhOlm</td>\n",
              "      <td>10065.0</td>\n",
              "      <td>[24, 43, 87]</td>\n",
              "      <td>(British Airways. )</td>\n",
              "    </tr>\n",
              "    <tr>\n",
              "      <th>3</th>\n",
              "      <td>Budapest_PaRis</td>\n",
              "      <td>NaN</td>\n",
              "      <td>[13]</td>\n",
              "      <td>12. Air France</td>\n",
              "    </tr>\n",
              "    <tr>\n",
              "      <th>4</th>\n",
              "      <td>Brussels_londOn</td>\n",
              "      <td>10085.0</td>\n",
              "      <td>[67, 32]</td>\n",
              "      <td>\"Swiss Air\"</td>\n",
              "    </tr>\n",
              "  </tbody>\n",
              "</table>\n",
              "</div>"
            ],
            "text/plain": [
              "            From_To  FlightNumber  RecentDelays              Airline\n",
              "0      LoNDon_paris       10045.0      [23, 47]               KLM(!)\n",
              "1      MAdrid_miLAN           NaN            []    <Air France> (12)\n",
              "2  londON_StockhOlm       10065.0  [24, 43, 87]  (British Airways. )\n",
              "3    Budapest_PaRis           NaN          [13]       12. Air France\n",
              "4   Brussels_londOn       10085.0      [67, 32]          \"Swiss Air\""
            ]
          },
          "metadata": {
            "tags": []
          },
          "execution_count": 3
        }
      ]
    },
    {
      "cell_type": "code",
      "metadata": {
        "id": "73IjxN69tT_N"
      },
      "source": [
        "df.fillna(value=0,inplace=True)"
      ],
      "execution_count": 4,
      "outputs": []
    },
    {
      "cell_type": "code",
      "metadata": {
        "colab": {
          "base_uri": "https://localhost:8080/"
        },
        "id": "uPvuUxxnu2Zu",
        "outputId": "6e3559d7-dda3-4740-9524-e1da3323fe44"
      },
      "source": [
        "df.dtypes"
      ],
      "execution_count": 5,
      "outputs": [
        {
          "output_type": "execute_result",
          "data": {
            "text/plain": [
              "From_To          object\n",
              "FlightNumber    float64\n",
              "RecentDelays     object\n",
              "Airline          object\n",
              "dtype: object"
            ]
          },
          "metadata": {
            "tags": []
          },
          "execution_count": 5
        }
      ]
    },
    {
      "cell_type": "code",
      "metadata": {
        "colab": {
          "base_uri": "https://localhost:8080/",
          "height": 198
        },
        "id": "b1JAkP1MzWme",
        "outputId": "efb2821b-0430-48a5-8cb2-3797db25a2f1"
      },
      "source": [
        "df"
      ],
      "execution_count": 6,
      "outputs": [
        {
          "output_type": "execute_result",
          "data": {
            "text/html": [
              "<div>\n",
              "<style scoped>\n",
              "    .dataframe tbody tr th:only-of-type {\n",
              "        vertical-align: middle;\n",
              "    }\n",
              "\n",
              "    .dataframe tbody tr th {\n",
              "        vertical-align: top;\n",
              "    }\n",
              "\n",
              "    .dataframe thead th {\n",
              "        text-align: right;\n",
              "    }\n",
              "</style>\n",
              "<table border=\"1\" class=\"dataframe\">\n",
              "  <thead>\n",
              "    <tr style=\"text-align: right;\">\n",
              "      <th></th>\n",
              "      <th>From_To</th>\n",
              "      <th>FlightNumber</th>\n",
              "      <th>RecentDelays</th>\n",
              "      <th>Airline</th>\n",
              "    </tr>\n",
              "  </thead>\n",
              "  <tbody>\n",
              "    <tr>\n",
              "      <th>0</th>\n",
              "      <td>LoNDon_paris</td>\n",
              "      <td>10045.0</td>\n",
              "      <td>[23, 47]</td>\n",
              "      <td>KLM(!)</td>\n",
              "    </tr>\n",
              "    <tr>\n",
              "      <th>1</th>\n",
              "      <td>MAdrid_miLAN</td>\n",
              "      <td>0.0</td>\n",
              "      <td>[]</td>\n",
              "      <td>&lt;Air France&gt; (12)</td>\n",
              "    </tr>\n",
              "    <tr>\n",
              "      <th>2</th>\n",
              "      <td>londON_StockhOlm</td>\n",
              "      <td>10065.0</td>\n",
              "      <td>[24, 43, 87]</td>\n",
              "      <td>(British Airways. )</td>\n",
              "    </tr>\n",
              "    <tr>\n",
              "      <th>3</th>\n",
              "      <td>Budapest_PaRis</td>\n",
              "      <td>0.0</td>\n",
              "      <td>[13]</td>\n",
              "      <td>12. Air France</td>\n",
              "    </tr>\n",
              "    <tr>\n",
              "      <th>4</th>\n",
              "      <td>Brussels_londOn</td>\n",
              "      <td>10085.0</td>\n",
              "      <td>[67, 32]</td>\n",
              "      <td>\"Swiss Air\"</td>\n",
              "    </tr>\n",
              "  </tbody>\n",
              "</table>\n",
              "</div>"
            ],
            "text/plain": [
              "            From_To  FlightNumber  RecentDelays              Airline\n",
              "0      LoNDon_paris       10045.0      [23, 47]               KLM(!)\n",
              "1      MAdrid_miLAN           0.0            []    <Air France> (12)\n",
              "2  londON_StockhOlm       10065.0  [24, 43, 87]  (British Airways. )\n",
              "3    Budapest_PaRis           0.0          [13]       12. Air France\n",
              "4   Brussels_londOn       10085.0      [67, 32]          \"Swiss Air\""
            ]
          },
          "metadata": {
            "tags": []
          },
          "execution_count": 6
        }
      ]
    },
    {
      "cell_type": "code",
      "metadata": {
        "id": "z3CRRU4p0lfV",
        "colab": {
          "base_uri": "https://localhost:8080/"
        },
        "outputId": "4eb2bfa9-f278-4a9a-cbd3-2ea1646d0770"
      },
      "source": [
        "for i in range(5):\r\n",
        "    if df['FlightNumber'].loc[i]==0:\r\n",
        "        a=df['FlightNumber'].loc[i-1]\r\n",
        "        print(a+10)\r\n",
        "    else:\r\n",
        "        print(df['FlightNumber'].loc[i])"
      ],
      "execution_count": 7,
      "outputs": [
        {
          "output_type": "stream",
          "text": [
            "10045.0\n",
            "10055.0\n",
            "10065.0\n",
            "10075.0\n",
            "10085.0\n"
          ],
          "name": "stdout"
        }
      ]
    },
    {
      "cell_type": "code",
      "metadata": {
        "id": "zfmjyCAtAj3B"
      },
      "source": [
        "df['FlightNumber']=df['FlightNumber'].astype(int)"
      ],
      "execution_count": 8,
      "outputs": []
    },
    {
      "cell_type": "code",
      "metadata": {
        "colab": {
          "base_uri": "https://localhost:8080/"
        },
        "id": "1OtzZFRgAmtY",
        "outputId": "bc4ed3dd-cf71-41eb-ebe1-b5c73c1a2fb7"
      },
      "source": [
        "df.dtypes"
      ],
      "execution_count": 9,
      "outputs": [
        {
          "output_type": "execute_result",
          "data": {
            "text/plain": [
              "From_To         object\n",
              "FlightNumber     int64\n",
              "RecentDelays    object\n",
              "Airline         object\n",
              "dtype: object"
            ]
          },
          "metadata": {
            "tags": []
          },
          "execution_count": 9
        }
      ]
    },
    {
      "cell_type": "code",
      "metadata": {
        "id": "BBuUPJG2As1z"
      },
      "source": [
        "2. The From_To column would be better as two separate columns! Split each\r\n",
        "string on the underscore delimiter _ to give a new temporary DataFrame with\r\n",
        "the correct values. Assign the correct column names to this temporary\r\n",
        "DataFrame."
      ],
      "execution_count": null,
      "outputs": []
    },
    {
      "cell_type": "code",
      "metadata": {
        "id": "hBh7oLH1At_l"
      },
      "source": [
        "new=df['From_To'].str.split(\"_\",expand=True)"
      ],
      "execution_count": 10,
      "outputs": []
    },
    {
      "cell_type": "code",
      "metadata": {
        "colab": {
          "base_uri": "https://localhost:8080/"
        },
        "id": "ATmL9Xk7A0Qw",
        "outputId": "07d6b394-cc76-4ec4-a49f-b7623c170fef"
      },
      "source": [
        "new[0]"
      ],
      "execution_count": 11,
      "outputs": [
        {
          "output_type": "execute_result",
          "data": {
            "text/plain": [
              "0      LoNDon\n",
              "1      MAdrid\n",
              "2      londON\n",
              "3    Budapest\n",
              "4    Brussels\n",
              "Name: 0, dtype: object"
            ]
          },
          "metadata": {
            "tags": []
          },
          "execution_count": 11
        }
      ]
    },
    {
      "cell_type": "code",
      "metadata": {
        "id": "EdfNQqi-A25k"
      },
      "source": [
        "df['From']=new[0]"
      ],
      "execution_count": 12,
      "outputs": []
    },
    {
      "cell_type": "code",
      "metadata": {
        "id": "EHzD1pwyA40c"
      },
      "source": [
        "df['To']=new[1]"
      ],
      "execution_count": 13,
      "outputs": []
    },
    {
      "cell_type": "code",
      "metadata": {
        "colab": {
          "base_uri": "https://localhost:8080/",
          "height": 198
        },
        "id": "u3UcnRsnA7oU",
        "outputId": "ea31e9e0-ae9e-452e-836e-760bf99df9f6"
      },
      "source": [
        "df"
      ],
      "execution_count": 14,
      "outputs": [
        {
          "output_type": "execute_result",
          "data": {
            "text/html": [
              "<div>\n",
              "<style scoped>\n",
              "    .dataframe tbody tr th:only-of-type {\n",
              "        vertical-align: middle;\n",
              "    }\n",
              "\n",
              "    .dataframe tbody tr th {\n",
              "        vertical-align: top;\n",
              "    }\n",
              "\n",
              "    .dataframe thead th {\n",
              "        text-align: right;\n",
              "    }\n",
              "</style>\n",
              "<table border=\"1\" class=\"dataframe\">\n",
              "  <thead>\n",
              "    <tr style=\"text-align: right;\">\n",
              "      <th></th>\n",
              "      <th>From_To</th>\n",
              "      <th>FlightNumber</th>\n",
              "      <th>RecentDelays</th>\n",
              "      <th>Airline</th>\n",
              "      <th>From</th>\n",
              "      <th>To</th>\n",
              "    </tr>\n",
              "  </thead>\n",
              "  <tbody>\n",
              "    <tr>\n",
              "      <th>0</th>\n",
              "      <td>LoNDon_paris</td>\n",
              "      <td>10045</td>\n",
              "      <td>[23, 47]</td>\n",
              "      <td>KLM(!)</td>\n",
              "      <td>LoNDon</td>\n",
              "      <td>paris</td>\n",
              "    </tr>\n",
              "    <tr>\n",
              "      <th>1</th>\n",
              "      <td>MAdrid_miLAN</td>\n",
              "      <td>0</td>\n",
              "      <td>[]</td>\n",
              "      <td>&lt;Air France&gt; (12)</td>\n",
              "      <td>MAdrid</td>\n",
              "      <td>miLAN</td>\n",
              "    </tr>\n",
              "    <tr>\n",
              "      <th>2</th>\n",
              "      <td>londON_StockhOlm</td>\n",
              "      <td>10065</td>\n",
              "      <td>[24, 43, 87]</td>\n",
              "      <td>(British Airways. )</td>\n",
              "      <td>londON</td>\n",
              "      <td>StockhOlm</td>\n",
              "    </tr>\n",
              "    <tr>\n",
              "      <th>3</th>\n",
              "      <td>Budapest_PaRis</td>\n",
              "      <td>0</td>\n",
              "      <td>[13]</td>\n",
              "      <td>12. Air France</td>\n",
              "      <td>Budapest</td>\n",
              "      <td>PaRis</td>\n",
              "    </tr>\n",
              "    <tr>\n",
              "      <th>4</th>\n",
              "      <td>Brussels_londOn</td>\n",
              "      <td>10085</td>\n",
              "      <td>[67, 32]</td>\n",
              "      <td>\"Swiss Air\"</td>\n",
              "      <td>Brussels</td>\n",
              "      <td>londOn</td>\n",
              "    </tr>\n",
              "  </tbody>\n",
              "</table>\n",
              "</div>"
            ],
            "text/plain": [
              "            From_To  FlightNumber  ...      From         To\n",
              "0      LoNDon_paris         10045  ...    LoNDon      paris\n",
              "1      MAdrid_miLAN             0  ...    MAdrid      miLAN\n",
              "2  londON_StockhOlm         10065  ...    londON  StockhOlm\n",
              "3    Budapest_PaRis             0  ...  Budapest      PaRis\n",
              "4   Brussels_londOn         10085  ...  Brussels     londOn\n",
              "\n",
              "[5 rows x 6 columns]"
            ]
          },
          "metadata": {
            "tags": []
          },
          "execution_count": 14
        }
      ]
    },
    {
      "cell_type": "code",
      "metadata": {
        "id": "oyd-A-JNA9ob"
      },
      "source": [
        "3.Notice how the capitalisation of the city names is all mixed up in this temporary DataFrame. \r\n",
        "Standardise the strings so that only the first letter is uppercase (e.g. \"londON\" should become \"London\".)"
      ],
      "execution_count": null,
      "outputs": []
    },
    {
      "cell_type": "code",
      "metadata": {
        "colab": {
          "base_uri": "https://localhost:8080/",
          "height": 198
        },
        "id": "j3SuiJvZBCp3",
        "outputId": "3169fc3d-5627-4298-d625-c66bb8e4e9b0"
      },
      "source": [
        "df"
      ],
      "execution_count": 15,
      "outputs": [
        {
          "output_type": "execute_result",
          "data": {
            "text/html": [
              "<div>\n",
              "<style scoped>\n",
              "    .dataframe tbody tr th:only-of-type {\n",
              "        vertical-align: middle;\n",
              "    }\n",
              "\n",
              "    .dataframe tbody tr th {\n",
              "        vertical-align: top;\n",
              "    }\n",
              "\n",
              "    .dataframe thead th {\n",
              "        text-align: right;\n",
              "    }\n",
              "</style>\n",
              "<table border=\"1\" class=\"dataframe\">\n",
              "  <thead>\n",
              "    <tr style=\"text-align: right;\">\n",
              "      <th></th>\n",
              "      <th>From_To</th>\n",
              "      <th>FlightNumber</th>\n",
              "      <th>RecentDelays</th>\n",
              "      <th>Airline</th>\n",
              "      <th>From</th>\n",
              "      <th>To</th>\n",
              "    </tr>\n",
              "  </thead>\n",
              "  <tbody>\n",
              "    <tr>\n",
              "      <th>0</th>\n",
              "      <td>LoNDon_paris</td>\n",
              "      <td>10045</td>\n",
              "      <td>[23, 47]</td>\n",
              "      <td>KLM(!)</td>\n",
              "      <td>LoNDon</td>\n",
              "      <td>paris</td>\n",
              "    </tr>\n",
              "    <tr>\n",
              "      <th>1</th>\n",
              "      <td>MAdrid_miLAN</td>\n",
              "      <td>0</td>\n",
              "      <td>[]</td>\n",
              "      <td>&lt;Air France&gt; (12)</td>\n",
              "      <td>MAdrid</td>\n",
              "      <td>miLAN</td>\n",
              "    </tr>\n",
              "    <tr>\n",
              "      <th>2</th>\n",
              "      <td>londON_StockhOlm</td>\n",
              "      <td>10065</td>\n",
              "      <td>[24, 43, 87]</td>\n",
              "      <td>(British Airways. )</td>\n",
              "      <td>londON</td>\n",
              "      <td>StockhOlm</td>\n",
              "    </tr>\n",
              "    <tr>\n",
              "      <th>3</th>\n",
              "      <td>Budapest_PaRis</td>\n",
              "      <td>0</td>\n",
              "      <td>[13]</td>\n",
              "      <td>12. Air France</td>\n",
              "      <td>Budapest</td>\n",
              "      <td>PaRis</td>\n",
              "    </tr>\n",
              "    <tr>\n",
              "      <th>4</th>\n",
              "      <td>Brussels_londOn</td>\n",
              "      <td>10085</td>\n",
              "      <td>[67, 32]</td>\n",
              "      <td>\"Swiss Air\"</td>\n",
              "      <td>Brussels</td>\n",
              "      <td>londOn</td>\n",
              "    </tr>\n",
              "  </tbody>\n",
              "</table>\n",
              "</div>"
            ],
            "text/plain": [
              "            From_To  FlightNumber  ...      From         To\n",
              "0      LoNDon_paris         10045  ...    LoNDon      paris\n",
              "1      MAdrid_miLAN             0  ...    MAdrid      miLAN\n",
              "2  londON_StockhOlm         10065  ...    londON  StockhOlm\n",
              "3    Budapest_PaRis             0  ...  Budapest      PaRis\n",
              "4   Brussels_londOn         10085  ...  Brussels     londOn\n",
              "\n",
              "[5 rows x 6 columns]"
            ]
          },
          "metadata": {
            "tags": []
          },
          "execution_count": 15
        }
      ]
    },
    {
      "cell_type": "code",
      "metadata": {
        "colab": {
          "base_uri": "https://localhost:8080/",
          "height": 198
        },
        "id": "B3qpPRngBC0t",
        "outputId": "0dedf8e9-b72f-41bc-d887-436cd0c80b7e"
      },
      "source": [
        "for i in df.From:\r\n",
        "    df['From']=i.title()\r\n",
        "for j in df.To:\r\n",
        "    df['To']=j.title()\r\n",
        "df"
      ],
      "execution_count": 16,
      "outputs": [
        {
          "output_type": "execute_result",
          "data": {
            "text/html": [
              "<div>\n",
              "<style scoped>\n",
              "    .dataframe tbody tr th:only-of-type {\n",
              "        vertical-align: middle;\n",
              "    }\n",
              "\n",
              "    .dataframe tbody tr th {\n",
              "        vertical-align: top;\n",
              "    }\n",
              "\n",
              "    .dataframe thead th {\n",
              "        text-align: right;\n",
              "    }\n",
              "</style>\n",
              "<table border=\"1\" class=\"dataframe\">\n",
              "  <thead>\n",
              "    <tr style=\"text-align: right;\">\n",
              "      <th></th>\n",
              "      <th>From_To</th>\n",
              "      <th>FlightNumber</th>\n",
              "      <th>RecentDelays</th>\n",
              "      <th>Airline</th>\n",
              "      <th>From</th>\n",
              "      <th>To</th>\n",
              "    </tr>\n",
              "  </thead>\n",
              "  <tbody>\n",
              "    <tr>\n",
              "      <th>0</th>\n",
              "      <td>LoNDon_paris</td>\n",
              "      <td>10045</td>\n",
              "      <td>[23, 47]</td>\n",
              "      <td>KLM(!)</td>\n",
              "      <td>London</td>\n",
              "      <td>Paris</td>\n",
              "    </tr>\n",
              "    <tr>\n",
              "      <th>1</th>\n",
              "      <td>MAdrid_miLAN</td>\n",
              "      <td>0</td>\n",
              "      <td>[]</td>\n",
              "      <td>&lt;Air France&gt; (12)</td>\n",
              "      <td>London</td>\n",
              "      <td>Paris</td>\n",
              "    </tr>\n",
              "    <tr>\n",
              "      <th>2</th>\n",
              "      <td>londON_StockhOlm</td>\n",
              "      <td>10065</td>\n",
              "      <td>[24, 43, 87]</td>\n",
              "      <td>(British Airways. )</td>\n",
              "      <td>London</td>\n",
              "      <td>Paris</td>\n",
              "    </tr>\n",
              "    <tr>\n",
              "      <th>3</th>\n",
              "      <td>Budapest_PaRis</td>\n",
              "      <td>0</td>\n",
              "      <td>[13]</td>\n",
              "      <td>12. Air France</td>\n",
              "      <td>London</td>\n",
              "      <td>Paris</td>\n",
              "    </tr>\n",
              "    <tr>\n",
              "      <th>4</th>\n",
              "      <td>Brussels_londOn</td>\n",
              "      <td>10085</td>\n",
              "      <td>[67, 32]</td>\n",
              "      <td>\"Swiss Air\"</td>\n",
              "      <td>London</td>\n",
              "      <td>Paris</td>\n",
              "    </tr>\n",
              "  </tbody>\n",
              "</table>\n",
              "</div>"
            ],
            "text/plain": [
              "            From_To  FlightNumber  ...    From     To\n",
              "0      LoNDon_paris         10045  ...  London  Paris\n",
              "1      MAdrid_miLAN             0  ...  London  Paris\n",
              "2  londON_StockhOlm         10065  ...  London  Paris\n",
              "3    Budapest_PaRis             0  ...  London  Paris\n",
              "4   Brussels_londOn         10085  ...  London  Paris\n",
              "\n",
              "[5 rows x 6 columns]"
            ]
          },
          "metadata": {
            "tags": []
          },
          "execution_count": 16
        }
      ]
    },
    {
      "cell_type": "code",
      "metadata": {
        "id": "V-24KZapBHh_"
      },
      "source": [
        "4. Delete the From_To column from df and attach the temporary DataFrame\r\n",
        "from the previous questions."
      ],
      "execution_count": null,
      "outputs": []
    },
    {
      "cell_type": "code",
      "metadata": {
        "colab": {
          "base_uri": "https://localhost:8080/",
          "height": 198
        },
        "id": "4VBAmMokBLGm",
        "outputId": "0669830e-dded-4fe1-9358-8e11c73ba4cb"
      },
      "source": [
        "df.drop(columns='From_To',inplace=True)\r\n",
        "df"
      ],
      "execution_count": 17,
      "outputs": [
        {
          "output_type": "execute_result",
          "data": {
            "text/html": [
              "<div>\n",
              "<style scoped>\n",
              "    .dataframe tbody tr th:only-of-type {\n",
              "        vertical-align: middle;\n",
              "    }\n",
              "\n",
              "    .dataframe tbody tr th {\n",
              "        vertical-align: top;\n",
              "    }\n",
              "\n",
              "    .dataframe thead th {\n",
              "        text-align: right;\n",
              "    }\n",
              "</style>\n",
              "<table border=\"1\" class=\"dataframe\">\n",
              "  <thead>\n",
              "    <tr style=\"text-align: right;\">\n",
              "      <th></th>\n",
              "      <th>FlightNumber</th>\n",
              "      <th>RecentDelays</th>\n",
              "      <th>Airline</th>\n",
              "      <th>From</th>\n",
              "      <th>To</th>\n",
              "    </tr>\n",
              "  </thead>\n",
              "  <tbody>\n",
              "    <tr>\n",
              "      <th>0</th>\n",
              "      <td>10045</td>\n",
              "      <td>[23, 47]</td>\n",
              "      <td>KLM(!)</td>\n",
              "      <td>London</td>\n",
              "      <td>Paris</td>\n",
              "    </tr>\n",
              "    <tr>\n",
              "      <th>1</th>\n",
              "      <td>0</td>\n",
              "      <td>[]</td>\n",
              "      <td>&lt;Air France&gt; (12)</td>\n",
              "      <td>London</td>\n",
              "      <td>Paris</td>\n",
              "    </tr>\n",
              "    <tr>\n",
              "      <th>2</th>\n",
              "      <td>10065</td>\n",
              "      <td>[24, 43, 87]</td>\n",
              "      <td>(British Airways. )</td>\n",
              "      <td>London</td>\n",
              "      <td>Paris</td>\n",
              "    </tr>\n",
              "    <tr>\n",
              "      <th>3</th>\n",
              "      <td>0</td>\n",
              "      <td>[13]</td>\n",
              "      <td>12. Air France</td>\n",
              "      <td>London</td>\n",
              "      <td>Paris</td>\n",
              "    </tr>\n",
              "    <tr>\n",
              "      <th>4</th>\n",
              "      <td>10085</td>\n",
              "      <td>[67, 32]</td>\n",
              "      <td>\"Swiss Air\"</td>\n",
              "      <td>London</td>\n",
              "      <td>Paris</td>\n",
              "    </tr>\n",
              "  </tbody>\n",
              "</table>\n",
              "</div>"
            ],
            "text/plain": [
              "   FlightNumber  RecentDelays              Airline    From     To\n",
              "0         10045      [23, 47]               KLM(!)  London  Paris\n",
              "1             0            []    <Air France> (12)  London  Paris\n",
              "2         10065  [24, 43, 87]  (British Airways. )  London  Paris\n",
              "3             0          [13]       12. Air France  London  Paris\n",
              "4         10085      [67, 32]          \"Swiss Air\"  London  Paris"
            ]
          },
          "metadata": {
            "tags": []
          },
          "execution_count": 17
        }
      ]
    },
    {
      "cell_type": "code",
      "metadata": {
        "id": "AWaxLBroBLRU"
      },
      "source": [
        "5. In the RecentDelays column, the values have been entered into the\r\n",
        "DataFrame as a list. We would like each first value in its own column, each\r\n",
        "\r\n",
        "second value in its own column, and so on. If there isn't an Nth value, the value\r\n",
        "should be NaN.\r\n",
        "Expand the Series of lists into a DataFrame named delays, rename the columns\r\n",
        "delay_1, delay_2, etc. and replace the unwanted RecentDelays column in df\r\n",
        "with delays."
      ],
      "execution_count": null,
      "outputs": []
    },
    {
      "cell_type": "code",
      "metadata": {
        "colab": {
          "base_uri": "https://localhost:8080/"
        },
        "id": "t1iLfi2zBQvD",
        "outputId": "0e3e867d-d841-4191-8a77-ba8e53455e8d"
      },
      "source": [
        "df['RecentDelays'].loc[0]=[23,47,np.nan]\r\n",
        "df['RecentDelays'].loc[1]=[np.nan,np.nan,np.nan]\r\n",
        "df['RecentDelays'].loc[3]=[13,np.nan,np.nan]\r\n",
        "df['RecentDelays'].loc[4]=[67,32,np.nan]"
      ],
      "execution_count": 18,
      "outputs": [
        {
          "output_type": "stream",
          "text": [
            "/usr/local/lib/python3.6/dist-packages/pandas/core/indexing.py:670: SettingWithCopyWarning: \n",
            "A value is trying to be set on a copy of a slice from a DataFrame\n",
            "\n",
            "See the caveats in the documentation: https://pandas.pydata.org/pandas-docs/stable/user_guide/indexing.html#returning-a-view-versus-a-copy\n",
            "  iloc._setitem_with_indexer(indexer, value)\n"
          ],
          "name": "stderr"
        }
      ]
    },
    {
      "cell_type": "code",
      "metadata": {
        "id": "V7h_Jns_BWlo"
      },
      "source": [
        "l=[]\r\n",
        "for i in range(5):\r\n",
        "    a=df['RecentDelays'].loc[i]\r\n",
        "    l.append(a[2])\r\n",
        "l\r\n",
        "for i in l:\r\n",
        "    df['Delay_3']=l\r\n",
        "\r\n",
        "l.clear()"
      ],
      "execution_count": 29,
      "outputs": []
    },
    {
      "cell_type": "code",
      "metadata": {
        "colab": {
          "base_uri": "https://localhost:8080/",
          "height": 198
        },
        "id": "jvryGTxyBZKz",
        "outputId": "53ae1ce1-dbc0-498f-dbcd-2464cdb78ec7"
      },
      "source": [
        "df"
      ],
      "execution_count": 30,
      "outputs": [
        {
          "output_type": "execute_result",
          "data": {
            "text/html": [
              "<div>\n",
              "<style scoped>\n",
              "    .dataframe tbody tr th:only-of-type {\n",
              "        vertical-align: middle;\n",
              "    }\n",
              "\n",
              "    .dataframe tbody tr th {\n",
              "        vertical-align: top;\n",
              "    }\n",
              "\n",
              "    .dataframe thead th {\n",
              "        text-align: right;\n",
              "    }\n",
              "</style>\n",
              "<table border=\"1\" class=\"dataframe\">\n",
              "  <thead>\n",
              "    <tr style=\"text-align: right;\">\n",
              "      <th></th>\n",
              "      <th>FlightNumber</th>\n",
              "      <th>RecentDelays</th>\n",
              "      <th>Airline</th>\n",
              "      <th>From</th>\n",
              "      <th>To</th>\n",
              "      <th>Delay_1</th>\n",
              "      <th>Delay_2</th>\n",
              "      <th>Delay_3</th>\n",
              "    </tr>\n",
              "  </thead>\n",
              "  <tbody>\n",
              "    <tr>\n",
              "      <th>0</th>\n",
              "      <td>10045</td>\n",
              "      <td>[23, 47, nan]</td>\n",
              "      <td>KLM(!)</td>\n",
              "      <td>London</td>\n",
              "      <td>Paris</td>\n",
              "      <td>23.0</td>\n",
              "      <td>47.0</td>\n",
              "      <td>NaN</td>\n",
              "    </tr>\n",
              "    <tr>\n",
              "      <th>1</th>\n",
              "      <td>0</td>\n",
              "      <td>[nan, nan, nan]</td>\n",
              "      <td>&lt;Air France&gt; (12)</td>\n",
              "      <td>London</td>\n",
              "      <td>Paris</td>\n",
              "      <td>NaN</td>\n",
              "      <td>NaN</td>\n",
              "      <td>NaN</td>\n",
              "    </tr>\n",
              "    <tr>\n",
              "      <th>2</th>\n",
              "      <td>10065</td>\n",
              "      <td>[24, 43, 87]</td>\n",
              "      <td>(British Airways. )</td>\n",
              "      <td>London</td>\n",
              "      <td>Paris</td>\n",
              "      <td>24.0</td>\n",
              "      <td>43.0</td>\n",
              "      <td>87.0</td>\n",
              "    </tr>\n",
              "    <tr>\n",
              "      <th>3</th>\n",
              "      <td>0</td>\n",
              "      <td>[13, nan, nan]</td>\n",
              "      <td>12. Air France</td>\n",
              "      <td>London</td>\n",
              "      <td>Paris</td>\n",
              "      <td>13.0</td>\n",
              "      <td>NaN</td>\n",
              "      <td>NaN</td>\n",
              "    </tr>\n",
              "    <tr>\n",
              "      <th>4</th>\n",
              "      <td>10085</td>\n",
              "      <td>[67, 32, nan]</td>\n",
              "      <td>\"Swiss Air\"</td>\n",
              "      <td>London</td>\n",
              "      <td>Paris</td>\n",
              "      <td>67.0</td>\n",
              "      <td>32.0</td>\n",
              "      <td>NaN</td>\n",
              "    </tr>\n",
              "  </tbody>\n",
              "</table>\n",
              "</div>"
            ],
            "text/plain": [
              "   FlightNumber     RecentDelays  ... Delay_2 Delay_3\n",
              "0         10045    [23, 47, nan]  ...    47.0     NaN\n",
              "1             0  [nan, nan, nan]  ...     NaN     NaN\n",
              "2         10065     [24, 43, 87]  ...    43.0    87.0\n",
              "3             0   [13, nan, nan]  ...     NaN     NaN\n",
              "4         10085    [67, 32, nan]  ...    32.0     NaN\n",
              "\n",
              "[5 rows x 8 columns]"
            ]
          },
          "metadata": {
            "tags": []
          },
          "execution_count": 30
        }
      ]
    },
    {
      "cell_type": "code",
      "metadata": {
        "id": "UNkEqWlDBbpN"
      },
      "source": [
        ""
      ],
      "execution_count": null,
      "outputs": []
    }
  ]
}