{
  "nbformat": 4,
  "nbformat_minor": 0,
  "metadata": {
    "colab": {
      "name": "Python_ExceptionHandling_Assignment.ipynb",
      "provenance": [],
      "authorship_tag": "ABX9TyOfyIMImZzUU/OqzrSLg3Q8",
      "include_colab_link": true
    },
    "kernelspec": {
      "name": "python3",
      "display_name": "Python 3"
    }
  },
  "cells": [
    {
      "cell_type": "markdown",
      "metadata": {
        "id": "view-in-github",
        "colab_type": "text"
      },
      "source": [
        "<a href=\"https://colab.research.google.com/github/smitesh95/Python/blob/main/Python_ExceptionHandling_Assignment.ipynb\" target=\"_parent\"><img src=\"https://colab.research.google.com/assets/colab-badge.svg\" alt=\"Open In Colab\"/></a>"
      ]
    },
    {
      "cell_type": "code",
      "metadata": {
        "id": "Qvj0ZTcE6Duk"
      },
      "source": [
        "1. Write a function to compute 5/0 and use try/except to catch the exceptions."
      ],
      "execution_count": null,
      "outputs": []
    },
    {
      "cell_type": "code",
      "metadata": {
        "colab": {
          "base_uri": "https://localhost:8080/"
        },
        "id": "dxPNaw1v6GZn",
        "outputId": "67e6919c-6252-40bb-ea22-608755d352d4"
      },
      "source": [
        "def Exception():\r\n",
        "  try:\r\n",
        "    print(5/0)\r\n",
        "  except ZeroDivisionError as msg:\r\n",
        "    print('Cannot divide by zero : ',msg.__class__.__name__)\r\n",
        "Exception()"
      ],
      "execution_count": 3,
      "outputs": [
        {
          "output_type": "stream",
          "text": [
            "Cannot divide by zero :  ZeroDivisionError\n"
          ],
          "name": "stdout"
        }
      ]
    },
    {
      "cell_type": "code",
      "metadata": {
        "id": "KkkqfvA36OT7"
      },
      "source": [
        "2. Implement a Python program to generate all sentences where subject is in\r\n",
        "[\"Americans\", \"Indians\"] and verb is in [\"Play\", \"watch\"] and the object is in\r\n",
        "[\"Baseball\",\"cricket\"].\r\n",
        "Hint: Subject,Verb and Object should be declared in the program as shown below.\r\n",
        "subjects=[\"Americans \",\"Indians\"]\r\n",
        "verbs=[\"play\",\"watch\"]\r\n",
        "objects=[\"Baseball\",\"Cricket\"]\r\n",
        "Output should come as below:\r\n",
        "Americans play Baseball.\r\n",
        "Americans play Cricket.\r\n",
        "Americans watch Baseball.\r\n",
        "Americans watch Cricket.\r\n",
        "Indians play Baseball.\r\n",
        "Indians play Cricket.\r\n",
        "Indians watch Baseball.\r\n",
        "Indians watch Cricket."
      ],
      "execution_count": null,
      "outputs": []
    },
    {
      "cell_type": "code",
      "metadata": {
        "colab": {
          "base_uri": "https://localhost:8080/"
        },
        "id": "GJJrOOGJ64pG",
        "outputId": "17173524-837f-4fbb-e3b0-debb525c6384"
      },
      "source": [
        "subjects=[\"Americans \",\"Indians\"]\r\n",
        "verbs=[\"play\",\"watch\"]\r\n",
        "objects=[\"Baseball\",\"Cricket\"]\r\n",
        "\r\n",
        "l=[(i+' '+j+' '+k+'.') for i in subjects for j in verbs for k in objects]\r\n",
        "for i in range(len(l)):\r\n",
        "  print(l[i])"
      ],
      "execution_count": 17,
      "outputs": [
        {
          "output_type": "stream",
          "text": [
            "Americans  play Baseball.\n",
            "Americans  play Cricket.\n",
            "Americans  watch Baseball.\n",
            "Americans  watch Cricket.\n",
            "Indians play Baseball.\n",
            "Indians play Cricket.\n",
            "Indians watch Baseball.\n",
            "Indians watch Cricket.\n"
          ],
          "name": "stdout"
        }
      ]
    },
    {
      "cell_type": "code",
      "metadata": {
        "id": "iLSruBC47Exb"
      },
      "source": [
        ""
      ],
      "execution_count": null,
      "outputs": []
    }
  ]
}