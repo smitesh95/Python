{
  "nbformat": 4,
  "nbformat_minor": 0,
  "metadata": {
    "colab": {
      "name": "Python_Assignment_4.ipynb",
      "provenance": [],
      "collapsed_sections": [],
      "authorship_tag": "ABX9TyOrF2FgYufAHtUw7sn0o38s",
      "include_colab_link": true
    },
    "kernelspec": {
      "name": "python3",
      "display_name": "Python 3"
    }
  },
  "cells": [
    {
      "cell_type": "markdown",
      "metadata": {
        "id": "view-in-github",
        "colab_type": "text"
      },
      "source": [
        "<a href=\"https://colab.research.google.com/github/smitesh95/Python/blob/main/Python_Assignment_4.ipynb\" target=\"_parent\"><img src=\"https://colab.research.google.com/assets/colab-badge.svg\" alt=\"Open In Colab\"/></a>"
      ]
    },
    {
      "cell_type": "code",
      "metadata": {
        "id": "uRlhaMtS7rQr"
      },
      "source": [
        "1.1 Write a Python Program(with class concepts) to find the area of the triangle using the below\r\n",
        "formula.\r\n",
        "area = (s*(s-a)*(s-b)*(s-c)) ** 0.5\r\n",
        "\r\n",
        "Function to take the length of the sides of triangle from user should be defined in the parent\r\n",
        "class and function to calculate the area should be defined in subclass."
      ],
      "execution_count": null,
      "outputs": []
    },
    {
      "cell_type": "code",
      "metadata": {
        "colab": {
          "base_uri": "https://localhost:8080/"
        },
        "id": "74ovdP8P74Vk",
        "outputId": "c3fdb15a-83e4-4cc3-824c-cccfddcf55b6"
      },
      "source": [
        "class triangle:\r\n",
        "  def func(self,a,b,c):\r\n",
        "    self.a=a\r\n",
        "    self.b=b\r\n",
        "    self.c=c\r\n",
        "\r\n",
        "class tri(triangle):\r\n",
        "\r\n",
        "  def callarea(self):\r\n",
        "\r\n",
        "    s=(self.a+self.b+self.c)/2\r\n",
        "    print((s*(s-self.a)*(s-self.b)*(s-self.c)) ** 0.5)\r\n",
        "    \r\n",
        "    \r\n",
        "a1=tri()\r\n",
        "a1.func(a=float(input('Enter first side of triangle: ')),b=float(input('Enter second side of triangle: ')),c=float(input('Enter third side of triangle: ')))\r\n",
        "a1.callarea()\r\n"
      ],
      "execution_count": 1,
      "outputs": [
        {
          "output_type": "stream",
          "text": [
            "Enter first side of triangle: 4\n",
            "Enter second side of triangle: 5\n",
            "Enter third side of triangle: 4\n",
            "7.806247497997997\n"
          ],
          "name": "stdout"
        }
      ]
    },
    {
      "cell_type": "code",
      "metadata": {
        "id": "TfO113lW8By7"
      },
      "source": [
        "1.2 Write a function filter_long_words() that takes a list of words and an integer n and returns\r\n",
        "the list of words that are longer than n."
      ],
      "execution_count": 8,
      "outputs": []
    },
    {
      "cell_type": "code",
      "metadata": {
        "id": "Lerwi8m-DwQH",
        "colab": {
          "base_uri": "https://localhost:8080/"
        },
        "outputId": "7f0b4de7-25b3-483e-e1c9-65118ed91e70"
      },
      "source": [
        "class words:\r\n",
        "  def filter_long_words(self):\r\n",
        "    words=[]\r\n",
        "    long_words=[]\r\n",
        "    n=int(input('Enter a number : '))\r\n",
        "    for i in range(int(input('Enter the range of words : '))):\r\n",
        "      a=input('Enter {} word : '.format(i+1))\r\n",
        "      words.append(a)\r\n",
        "      \r\n",
        "    for k in words:\r\n",
        "      if(len(k)>n):\r\n",
        "        long_words.append(k)\r\n",
        "      else:\r\n",
        "        pass\r\n",
        "    print('The list of words that are longer than number {} are {} '.format(n,long_words))\r\n",
        "    \r\n",
        "\r\n",
        "\r\n",
        "w=words()\r\n",
        "w.filter_long_words()"
      ],
      "execution_count": 22,
      "outputs": [
        {
          "output_type": "stream",
          "text": [
            "Enter a number : 4\n",
            "Enter the range of words : 4\n",
            "Enter 1 word : hello\n",
            "Enter 2 word : hii\n",
            "Enter 3 word : good morning\n",
            "Enter 4 word : good evening\n",
            "The list of words that are longer than number 4 are ['hello', 'good morning', 'good evening'] \n"
          ],
          "name": "stdout"
        }
      ]
    },
    {
      "cell_type": "code",
      "metadata": {
        "id": "rjCbvLNBmN2B"
      },
      "source": [
        "2.1 Write a Python program using function concept that maps list of words into a list of integers\r\n",
        "representing the lengths of the corresponding words.\r\n",
        "Hint: If a list [ ab,cde,erty] is passed on to the python function output should come as [2,3,4]\r\n",
        "Here 2,3 and 4 are the lengths of the words in the list.\r\n"
      ],
      "execution_count": 17,
      "outputs": []
    },
    {
      "cell_type": "code",
      "metadata": {
        "colab": {
          "base_uri": "https://localhost:8080/"
        },
        "id": "aXqDv5vjmOAl",
        "outputId": "ab4c61ee-dc7b-4013-eb5a-3af98cd4ada2"
      },
      "source": [
        "def map(a):\r\n",
        "  list=[]\r\n",
        "  for i in a:\r\n",
        "    list.append(len(i))\r\n",
        "  print(list)\r\n",
        "map(a=['hello','good morning'])\r\n"
      ],
      "execution_count": 31,
      "outputs": [
        {
          "output_type": "stream",
          "text": [
            "[5, 12]\n"
          ],
          "name": "stdout"
        }
      ]
    },
    {
      "cell_type": "code",
      "metadata": {
        "colab": {
          "base_uri": "https://localhost:8080/"
        },
        "id": "vXX_YAb5mOIP",
        "outputId": "d219e18c-0d9f-4054-bda6-142931435c25"
      },
      "source": [
        "#Another way\r\n",
        "\r\n",
        "def map():\r\n",
        "  word=[]\r\n",
        "  list1=[]\r\n",
        "  for i in range(int(input('Enter how many words you want to enter : '))):\r\n",
        "    a=input('Enter {} word : '.format(i+1))\r\n",
        "    word.append((a))\r\n",
        "  for j in word:\r\n",
        "    list1.append(len(j))\r\n",
        "\r\n",
        "  print(list1)\r\n",
        "\r\n",
        "m=map()\r\n",
        "\r\n",
        "\r\n",
        "\r\n"
      ],
      "execution_count": 35,
      "outputs": [
        {
          "output_type": "stream",
          "text": [
            "Enter how many words you want to enter : 2\n",
            "Enter 1 word : hello\n",
            "Enter 2 word : good morning\n",
            "[5, 12]\n"
          ],
          "name": "stdout"
        }
      ]
    },
    {
      "cell_type": "code",
      "metadata": {
        "id": "b8FlQGxymOOG"
      },
      "source": [
        "2.2 Write a Python function which takes a character (i.e. a string of length 1) and returns True if\r\n",
        "it is a vowel, False otherwise."
      ],
      "execution_count": null,
      "outputs": []
    },
    {
      "cell_type": "code",
      "metadata": {
        "colab": {
          "base_uri": "https://localhost:8080/"
        },
        "id": "0-HUc_uBmd49",
        "outputId": "f45eb464-8a96-4e01-d0b9-c751eb8af869"
      },
      "source": [
        "class vowels:\r\n",
        "  def find(self):\r\n",
        "    a=input('Enter one alphabet : ')\r\n",
        "    v1=['a','e','i','o','u']\r\n",
        "    if (len(a)>1):\r\n",
        "      print('Kindly enter only one alphabet')\r\n",
        "    elif(a.lower() in v1):\r\n",
        "      return True\r\n",
        "    else:\r\n",
        "      return False\r\n",
        "v=vowels()\r\n",
        "v.find()"
      ],
      "execution_count": 37,
      "outputs": [
        {
          "output_type": "stream",
          "text": [
            "Enter one alphabet : a\n"
          ],
          "name": "stdout"
        },
        {
          "output_type": "execute_result",
          "data": {
            "text/plain": [
              "True"
            ]
          },
          "metadata": {
            "tags": []
          },
          "execution_count": 37
        }
      ]
    },
    {
      "cell_type": "code",
      "metadata": {
        "id": "lmMJIT-Dne4W"
      },
      "source": [
        ""
      ],
      "execution_count": 6,
      "outputs": []
    }
  ]
}