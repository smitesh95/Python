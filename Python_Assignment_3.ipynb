{
  "nbformat": 4,
  "nbformat_minor": 0,
  "metadata": {
    "colab": {
      "name": "Python_Assignment_3.ipynb",
      "provenance": [],
      "authorship_tag": "ABX9TyPTtL7Yn5WbzKHDMkbOFWT8",
      "include_colab_link": true
    },
    "kernelspec": {
      "name": "python3",
      "display_name": "Python 3"
    }
  },
  "cells": [
    {
      "cell_type": "markdown",
      "metadata": {
        "id": "view-in-github",
        "colab_type": "text"
      },
      "source": [
        "<a href=\"https://colab.research.google.com/github/smitesh95/Python/blob/main/Python_Assignment_3.ipynb\" target=\"_parent\"><img src=\"https://colab.research.google.com/assets/colab-badge.svg\" alt=\"Open In Colab\"/></a>"
      ]
    },
    {
      "cell_type": "code",
      "metadata": {
        "id": "oKBiZOVSJbk5"
      },
      "source": [
        "1.1 Write a Python Program to implement your own myreduce() function which works exactly\r\n",
        "like Python's built-in function reduce()"
      ],
      "execution_count": null,
      "outputs": []
    },
    {
      "cell_type": "code",
      "metadata": {
        "id": "MMfFP7uYJdBM"
      },
      "source": [
        "from functools import *"
      ],
      "execution_count": 2,
      "outputs": []
    },
    {
      "cell_type": "code",
      "metadata": {
        "colab": {
          "base_uri": "https://localhost:8080/"
        },
        "id": "7IH4RSDfJm6b",
        "outputId": "cbf5952c-2ab3-475a-b373-04b8d44722b2"
      },
      "source": [
        "def myreduce(n):\r\n",
        "  list=[]\r\n",
        "  mul=1\r\n",
        "  for i in range(n):\r\n",
        "    a=int(input('Enter the {} number to add : '.format(i+1)))\r\n",
        "    list.append(a)\r\n",
        "  print('The sum of the list is : ',sum(list))\r\n",
        "  for i in list:\r\n",
        "    mul=mul*i\r\n",
        "  print('Multiplication of list is :',mul)\r\n",
        "  \r\n",
        "\r\n",
        "myreduce(int(input('Enter the range of number to add : ')))"
      ],
      "execution_count": 16,
      "outputs": [
        {
          "output_type": "stream",
          "text": [
            "Enter the range of number to add : 2\n",
            "Enter the 1 number to add : 5\n",
            "Enter the 2 number to add : 4\n",
            "The sum of the list is :  9\n",
            "Multiplication of list is : 20\n"
          ],
          "name": "stdout"
        }
      ]
    },
    {
      "cell_type": "code",
      "metadata": {
        "id": "V6bGH0vEKXcY"
      },
      "source": [
        "1.2 Write a Python program to implement your own myfilter() function which works exactly\r\n",
        "like Python's built-in function filter()"
      ],
      "execution_count": 6,
      "outputs": []
    },
    {
      "cell_type": "code",
      "metadata": {
        "colab": {
          "base_uri": "https://localhost:8080/"
        },
        "id": "oObmGOYoLEdi",
        "outputId": "0d1c2f65-ba84-4d58-aae9-8ba1a4f27350"
      },
      "source": [
        "def myfilter():\r\n",
        "  no=int(input('Enter a range of list to filter even numbers : '))\r\n",
        "  list=[]\r\n",
        "  evenno=[]\r\n",
        "  for i in range(no):\r\n",
        "    a=int(input('Enter {} number : '.format(i+1)))\r\n",
        "    list.append(a)\r\n",
        "  print('Your entered numbers are : ',list)\r\n",
        "  for even in list:\r\n",
        "    if even %2!=0:\r\n",
        "      pass\r\n",
        "    else:\r\n",
        "      evenno.append(even)\r\n",
        "  print('The even no are filtered from list:',evenno)\r\n",
        "      \r\n",
        "\r\n",
        "myfilter()\r\n"
      ],
      "execution_count": 21,
      "outputs": [
        {
          "output_type": "stream",
          "text": [
            "Enter a range of list to filter even numbers : 2\n",
            "Enter 1 number : 5\n",
            "Enter 2 number : 4\n",
            "Your entered numbers are :  [5, 4]\n",
            "The even no are filtered from list: [4]\n"
          ],
          "name": "stdout"
        }
      ]
    },
    {
      "cell_type": "code",
      "metadata": {
        "id": "XIVq8pSpLVxO"
      },
      "source": [
        "2. Implement List comprehensions to produce the following lists.\r\n",
        "Write List comprehensions to produce the following Lists"
      ],
      "execution_count": null,
      "outputs": []
    },
    {
      "cell_type": "code",
      "metadata": {
        "id": "85PQzkcaRHhM"
      },
      "source": [
        "['x', 'xx', 'xxx', 'xxxx', 'y', 'yy', 'yyy', 'yyyy', 'z', 'zz', 'zzz', 'zzzz']"
      ],
      "execution_count": null,
      "outputs": []
    },
    {
      "cell_type": "code",
      "metadata": {
        "colab": {
          "base_uri": "https://localhost:8080/"
        },
        "id": "t_B9rfLjRNqb",
        "outputId": "b872fea0-61ef-4916-ffd0-299366f73ff6"
      },
      "source": [
        "x=['x','y','z']\r\n",
        "a=[(i*j) for i in x for j in range(1,5)]\r\n",
        "a"
      ],
      "execution_count": 23,
      "outputs": [
        {
          "output_type": "execute_result",
          "data": {
            "text/plain": [
              "['x', 'xx', 'xxx', 'xxxx', 'y', 'yy', 'yyy', 'yyyy', 'z', 'zz', 'zzz', 'zzzz']"
            ]
          },
          "metadata": {
            "tags": []
          },
          "execution_count": 23
        }
      ]
    },
    {
      "cell_type": "code",
      "metadata": {
        "id": "zkrSRqQsRkoZ"
      },
      "source": [
        "['x', 'y', 'z', 'xx', 'yy', 'zz', 'xxx', 'yyy', 'zzz', 'xxxx', 'yyyy', 'zzzz']"
      ],
      "execution_count": null,
      "outputs": []
    },
    {
      "cell_type": "code",
      "metadata": {
        "colab": {
          "base_uri": "https://localhost:8080/"
        },
        "id": "zLmuFdMnSMxb",
        "outputId": "7c807c5d-0372-4526-aeea-9f78e9891c1b"
      },
      "source": [
        "x=['x','y','z']\r\n",
        "a=[(j*i) for i in range(1,5) for j in x]\r\n",
        "a\r\n"
      ],
      "execution_count": 36,
      "outputs": [
        {
          "output_type": "execute_result",
          "data": {
            "text/plain": [
              "['x', 'y', 'z', 'xx', 'yy', 'zz', 'xxx', 'yyy', 'zzz', 'xxxx', 'yyyy', 'zzzz']"
            ]
          },
          "metadata": {
            "tags": []
          },
          "execution_count": 36
        }
      ]
    },
    {
      "cell_type": "code",
      "metadata": {
        "id": "ygHOIV86THEC"
      },
      "source": [
        "[[2], [3], [4], [3], [4], [5], [4], [5], [6]]"
      ],
      "execution_count": 41,
      "outputs": []
    },
    {
      "cell_type": "code",
      "metadata": {
        "colab": {
          "base_uri": "https://localhost:8080/"
        },
        "id": "ezCMqUYLULw4",
        "outputId": "bbea5b4d-568e-4de7-eae2-b5c6ab559862"
      },
      "source": [
        "list=[2,3,4]\r\n",
        "a=[[i+j] for i in list for j in range (3)]\r\n",
        "a"
      ],
      "execution_count": 41,
      "outputs": [
        {
          "output_type": "execute_result",
          "data": {
            "text/plain": [
              "[[2], [3], [4], [3], [4], [5], [4], [5], [6]]"
            ]
          },
          "metadata": {
            "tags": []
          },
          "execution_count": 41
        }
      ]
    },
    {
      "cell_type": "code",
      "metadata": {
        "id": "qhY0bVZKW_28"
      },
      "source": [
        "[[2, 3, 4, 5], [3, 4, 5, 6],[4, 5, 6, 7], [5, 6, 7, 8]]"
      ],
      "execution_count": null,
      "outputs": []
    },
    {
      "cell_type": "code",
      "metadata": {
        "colab": {
          "base_uri": "https://localhost:8080/"
        },
        "id": "2uXtWDPQXpjB",
        "outputId": "357df80a-efe4-4840-89eb-de029ab4af13"
      },
      "source": [
        "list=[2,3,4,5]\r\n",
        "a=[[i+j for i in list] for j in range(4)]\r\n",
        "a"
      ],
      "execution_count": 43,
      "outputs": [
        {
          "output_type": "execute_result",
          "data": {
            "text/plain": [
              "[[2, 3, 4, 5], [3, 4, 5, 6], [4, 5, 6, 7], [5, 6, 7, 8]]"
            ]
          },
          "metadata": {
            "tags": []
          },
          "execution_count": 43
        }
      ]
    },
    {
      "cell_type": "code",
      "metadata": {
        "id": "ZAh5iDz_X6mz"
      },
      "source": [
        "[(1, 1), (2, 1), (3, 1), (1, 2), (2, 2), (3, 2), (1, 3), (2, 3), (3, 3)]"
      ],
      "execution_count": null,
      "outputs": []
    },
    {
      "cell_type": "code",
      "metadata": {
        "colab": {
          "base_uri": "https://localhost:8080/"
        },
        "id": "uhkTx7PiYIkE",
        "outputId": "b86f915e-7e9c-4f1c-a1c9-855fdd647abb"
      },
      "source": [
        "a=[1,2,3]\r\n",
        "b=[1,2,3]\r\n",
        "c=[(j,i) for i in a for j in b]\r\n",
        "c"
      ],
      "execution_count": 45,
      "outputs": [
        {
          "output_type": "execute_result",
          "data": {
            "text/plain": [
              "[(1, 1), (2, 1), (3, 1), (1, 2), (2, 2), (3, 2), (1, 3), (2, 3), (3, 3)]"
            ]
          },
          "metadata": {
            "tags": []
          },
          "execution_count": 45
        }
      ]
    },
    {
      "cell_type": "code",
      "metadata": {
        "id": "n7cPrTzyYT3L"
      },
      "source": [
        ""
      ],
      "execution_count": null,
      "outputs": []
    }
  ]
}